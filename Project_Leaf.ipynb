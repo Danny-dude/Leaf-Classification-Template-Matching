{
 "cells": [
  {
   "attachments": {},
   "cell_type": "markdown",
   "metadata": {},
   "source": [
    "# Leaf Classification - Daniel Christodoulou "
   ]
  },
  {
   "cell_type": "code",
   "execution_count": 2,
   "metadata": {},
   "outputs": [],
   "source": [
    "# Importing libraries\n",
    "import numpy as np\n",
    "import os, os.path\n",
    "from os import listdir\n",
    "from skimage import io\n",
    "from scipy.ndimage import binary_opening,binary_closing\n",
    "from skimage.filters import threshold_mean\n",
    "import cv2 as cv\n",
    "import random as r"
   ]
  },
  {
   "cell_type": "code",
   "execution_count": 3,
   "metadata": {},
   "outputs": [],
   "source": [
    "# Function to return a rectangle of an image that fully contains the leaf, this is used to create a template\n",
    "def cropObject(im):\n",
    "    n,m = im.shape[::-1]\n",
    "    # Convert image to binary \n",
    "    im_2 = cv.adaptiveThreshold(im,1,cv.ADAPTIVE_THRESH_GAUSSIAN_C,cv.THRESH_BINARY,41,10) - 1\n",
    "    # A square 4x4 structuring element\n",
    "    SE = np.ones((4,4))\n",
    "    # Remove salt noise by performing an opening followed by a closing with the structuring element\n",
    "    im_2 = binary_opening(im_2,SE)\n",
    "    im_2 = binary_closing(im_2,SE)\n",
    "    # Locate bounds of object (leaf)\n",
    "    for i in range(m):\n",
    "        for j in range(n):\n",
    "            if im_2[i,j] == 1:\n",
    "                ymax = i\n",
    "                break\n",
    "\n",
    "    for i in range(n):\n",
    "        for j in range(m):\n",
    "            if im_2[j,i] == 1:\n",
    "                xmax = i\n",
    "                break\n",
    "\n",
    "    for i in range(m-1,0,-1):\n",
    "        for j in range(n-1,0,-1):\n",
    "            if im_2[i,j] == 1:\n",
    "                ymin = i\n",
    "                break\n",
    "\n",
    "    for i in range(n-1,0,-1):\n",
    "        for j in range(m-1,0,-1):\n",
    "            if im_2[j,i] == 1:\n",
    "                xmin = i\n",
    "                break\n",
    "    \n",
    "    a = (xmax - xmin)\n",
    "    b = (ymax - ymin)\n",
    "    # Output is the smaller template image\n",
    "    output = im[ymin:ymin + b,xmin:xmin + a]\n",
    "    return output\n",
    "    "
   ]
  },
  {
   "cell_type": "code",
   "execution_count": 38,
   "metadata": {},
   "outputs": [],
   "source": [
    "# Create Template for each image in the database\n",
    "def createTemplates(path):\n",
    "    database = [f for f in listdir(path)]\n",
    "    for i in database:\n",
    "        # Some hidden files start with '.' so we ignore those\n",
    "        if not i.startswith('.'): \n",
    "            leaves = [p for p in listdir(path+\"/\"+i)]\n",
    "            for j in leaves:\n",
    "                if not j.startswith('.'): \n",
    "                    image = cv.imread(path+\"/\"+i+\"/\"+j,0)\n",
    "                    template = cropObject(image)\n",
    "                    # Change path to what is relevant \n",
    "                    save_folder = \"/Users/danielchristodoulou/Documents/GitHub/Leaf-Classification-Template-Matching/leaf/Templates_Gray\"\n",
    "                    cv.imwrite(os.path.join(save_folder+\"/\"+i, 'template_'+j), template)\n",
    "\n",
    "createTemplates(\"leaf/RGB\")"
   ]
  },
  {
   "cell_type": "code",
   "execution_count": 44,
   "metadata": {},
   "outputs": [],
   "source": [
    "# Gets the probability of white pixels in an image\n",
    "def aveIntensity(img):\n",
    "    m,n = img.shape\n",
    "    sum = 0\n",
    "    for i in range(m):\n",
    "        for j in range(n):\n",
    "            sum += img[i,j]/255\n",
    "    return sum/(m*n)"
   ]
  },
  {
   "cell_type": "code",
   "execution_count": 45,
   "metadata": {},
   "outputs": [],
   "source": [
    "# Functon that uses template matching to classify images of leaves with a level of confidence\n",
    "def classifyLeaf(img):\n",
    "    img2 = img.copy()\n",
    "    database = [f for f in listdir(\"leaf/Templates_Gray\")]\n",
    "    storage = {}\n",
    "    # Begins the loop to enter the database\n",
    "    for i in database:\n",
    "        # Some hidden files start with '.' so we ignore those\n",
    "        if not i.startswith('.'):   \n",
    "            counter = 0\n",
    "            Templates = [p for p in listdir(\"leaf/Templates_Gray/\"+i)]\n",
    "            # Begins the loop to enter each template in the databse\n",
    "            for j in Templates:\n",
    "                if not j.startswith('.'): \n",
    "                    template = cv.imread(\"leaf/Templates_Gray/\"+i+\"/\"+j,0)\n",
    "                    w,h = template.shape[::-1]\n",
    "                    img = img2.copy()\n",
    "                    # Template matching method\n",
    "                    method = eval(\"cv.TM_CCOEFF\")\n",
    "                    # Applying template matching\n",
    "                    res = cv.matchTemplate(img,template,method)\n",
    "                    # Applying minMaxLoc which returns the coordinates of the rectangle with the greatest match to the template\n",
    "                    min_val, max_val, min_loc, max_loc = cv.minMaxLoc(res)\n",
    "                    # Splice out rectangle\n",
    "                    crop_img = img[max_loc[1]:max_loc[1] + h,max_loc[0]:max_loc[0] + w]\n",
    "                    # Convert to binary\n",
    "                    temp_bi = cv.threshold(template,threshold_mean(template),1,cv.THRESH_BINARY)[1]\n",
    "                    test_bi = cv.threshold(crop_img,threshold_mean(crop_img),1,cv.THRESH_BINARY)[1]\n",
    "                    # Take the difference between the binary versions of the template and the rectangle with the greatest match to calculate the coffidence interval\n",
    "                    diff = test_bi - temp_bi\n",
    "                    confidence = 1 - aveIntensity(diff)\n",
    "                    if confidence > 0.99:\n",
    "                        genus = i.split(\" \")[1]\n",
    "                        species = i.split(\" \")[2]\n",
    "                        storage[genus+\" \"+species] = confidence\n",
    "    if bool(storage):\n",
    "        # Returns the species with the greatest confidence level to the template\n",
    "        output = max(storage)\n",
    "    else:\n",
    "        output = \"Could not classify the leaf in this image\"\n",
    "    return output"
   ]
  },
  {
   "cell_type": "code",
   "execution_count": 49,
   "metadata": {},
   "outputs": [
    {
     "name": "stdout",
     "output_type": "stream",
     "text": [
      "The percentage accuracy of testing 50 images from database:0.72\n"
     ]
    }
   ],
   "source": [
    "# Function to test accuracy of implementation\n",
    "def testing(path,n):\n",
    "    correctCounter = 0\n",
    "    for t in range(n):\n",
    "        # Chooses a random directory\n",
    "        species = r.choice(os.listdir(path))\n",
    "        if not species.startswith(\".\"):\n",
    "            # Chooses a radnom image within the directory\n",
    "            im_name = r.choice(os.listdir(path+\"/\"+species))\n",
    "            # Some hidden files start with '.' so we ignore those\n",
    "            if not im_name.startswith(\".\"): \n",
    "                im = cv.imread(\"leaf/RGB/\"+species+\"/\"+im_name,0)\n",
    "                test = classifyLeaf(im)\n",
    "                spec = species.split(\" \")\n",
    "                ref = spec[1]+\" \"+spec[2]\n",
    "                # Tests the result of the classifyLeaf\n",
    "                if test == ref:\n",
    "                    correctCounter += 1\n",
    "    return correctCounter/n\n",
    "# Change path to what is relevant\n",
    "path = \"/Users/danielchristodoulou/Documents/GitHub/Leaf-Classification-Template-Matching/leaf/RGB\"\n",
    "# This percentage of accuracy varies significantly\n",
    "print(\"The percentage accuracy of testing 50 images from database:\"+str(testing(path,50)))"
   ]
  }
 ],
 "metadata": {
  "interpreter": {
   "hash": "aee8b7b246df8f9039afb4144a1f6fd8d2ca17a180786b69acc140d282b71a49"
  },
  "kernelspec": {
   "display_name": "Python 3.9.2 64-bit",
   "language": "python",
   "name": "python3"
  },
  "language_info": {
   "codemirror_mode": {
    "name": "ipython",
    "version": 3
   },
   "file_extension": ".py",
   "mimetype": "text/x-python",
   "name": "python",
   "nbconvert_exporter": "python",
   "pygments_lexer": "ipython3",
   "version": "3.9.6"
  },
  "orig_nbformat": 4
 },
 "nbformat": 4,
 "nbformat_minor": 2
}
